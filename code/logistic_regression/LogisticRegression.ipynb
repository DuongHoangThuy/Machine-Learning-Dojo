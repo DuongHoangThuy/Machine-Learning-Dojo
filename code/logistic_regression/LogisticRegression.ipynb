{
 "cells": [
  {
   "cell_type": "markdown",
   "metadata": {},
   "source": [
    "# Programming Exercise 2: Logistic Regression\n",
    "(Machine Learning Course)\n",
    "\n",
    "Bài tập này sẽ hướng dẫn bạn cách cài đặt thuật toán logistic regression bằng python và áp dụng trên hai tập dữ liệu khác nhau."
   ]
  },
  {
   "cell_type": "markdown",
   "metadata": {
    "collapsed": true
   },
   "source": [
    "## Logistic Regression\n",
    "\n",
    "Trong phần này, bạn sẽ cài đặt mô hình logistic regression để dự đoán liệu một học sinh có được nhận vào học ở trường ĐH không. Dự đoán sẽ dựa trên kết quả của hai kỳ thi trước đó của mỗi học sinh. Dữ liệu về điểm thi và nhãn (được nhận hay không được nhận) có trong file ```ex2data1.txt```."
   ]
  },
  {
   "cell_type": "markdown",
   "metadata": {},
   "source": [
    "### Đọc dữ liệu với pandas\n",
    "Trong phần này, tôi sẽ sử dụng thư viện ```pandas``` để đọc và mô tả dữ liệu."
   ]
  },
  {
   "cell_type": "code",
   "execution_count": 1,
   "metadata": {
    "collapsed": false
   },
   "outputs": [
    {
     "data": {
      "text/html": [
       "<div>\n",
       "<table border=\"1\" class=\"dataframe\">\n",
       "  <thead>\n",
       "    <tr style=\"text-align: right;\">\n",
       "      <th></th>\n",
       "      <th>0</th>\n",
       "      <th>1</th>\n",
       "      <th>2</th>\n",
       "    </tr>\n",
       "  </thead>\n",
       "  <tbody>\n",
       "    <tr>\n",
       "      <th>0</th>\n",
       "      <td>34.623660</td>\n",
       "      <td>78.024693</td>\n",
       "      <td>0</td>\n",
       "    </tr>\n",
       "    <tr>\n",
       "      <th>1</th>\n",
       "      <td>30.286711</td>\n",
       "      <td>43.894998</td>\n",
       "      <td>0</td>\n",
       "    </tr>\n",
       "    <tr>\n",
       "      <th>2</th>\n",
       "      <td>35.847409</td>\n",
       "      <td>72.902198</td>\n",
       "      <td>0</td>\n",
       "    </tr>\n",
       "    <tr>\n",
       "      <th>3</th>\n",
       "      <td>60.182599</td>\n",
       "      <td>86.308552</td>\n",
       "      <td>1</td>\n",
       "    </tr>\n",
       "    <tr>\n",
       "      <th>4</th>\n",
       "      <td>79.032736</td>\n",
       "      <td>75.344376</td>\n",
       "      <td>1</td>\n",
       "    </tr>\n",
       "  </tbody>\n",
       "</table>\n",
       "</div>"
      ],
      "text/plain": [
       "           0          1  2\n",
       "0  34.623660  78.024693  0\n",
       "1  30.286711  43.894998  0\n",
       "2  35.847409  72.902198  0\n",
       "3  60.182599  86.308552  1\n",
       "4  79.032736  75.344376  1"
      ]
     },
     "execution_count": 1,
     "metadata": {},
     "output_type": "execute_result"
    }
   ],
   "source": [
    "import pandas as pd\n",
    "import numpy as np\n",
    "\n",
    "df = pd.read_csv('./ex2data1.txt', header=None)\n",
    "\n",
    "df.head()"
   ]
  },
  {
   "cell_type": "markdown",
   "metadata": {},
   "source": [
    "Xem mô tả về dữ liệu với lệnh ```df.describe```."
   ]
  },
  {
   "cell_type": "code",
   "execution_count": 2,
   "metadata": {
    "collapsed": false
   },
   "outputs": [
    {
     "data": {
      "text/html": [
       "<div>\n",
       "<table border=\"1\" class=\"dataframe\">\n",
       "  <thead>\n",
       "    <tr style=\"text-align: right;\">\n",
       "      <th></th>\n",
       "      <th>0</th>\n",
       "      <th>1</th>\n",
       "      <th>2</th>\n",
       "    </tr>\n",
       "  </thead>\n",
       "  <tbody>\n",
       "    <tr>\n",
       "      <th>count</th>\n",
       "      <td>100.000000</td>\n",
       "      <td>100.000000</td>\n",
       "      <td>100.000000</td>\n",
       "    </tr>\n",
       "    <tr>\n",
       "      <th>mean</th>\n",
       "      <td>65.644274</td>\n",
       "      <td>66.221998</td>\n",
       "      <td>0.600000</td>\n",
       "    </tr>\n",
       "    <tr>\n",
       "      <th>std</th>\n",
       "      <td>19.458222</td>\n",
       "      <td>18.582783</td>\n",
       "      <td>0.492366</td>\n",
       "    </tr>\n",
       "    <tr>\n",
       "      <th>min</th>\n",
       "      <td>30.058822</td>\n",
       "      <td>30.603263</td>\n",
       "      <td>0.000000</td>\n",
       "    </tr>\n",
       "    <tr>\n",
       "      <th>25%</th>\n",
       "      <td>50.919511</td>\n",
       "      <td>48.179205</td>\n",
       "      <td>0.000000</td>\n",
       "    </tr>\n",
       "    <tr>\n",
       "      <th>50%</th>\n",
       "      <td>67.032988</td>\n",
       "      <td>67.682381</td>\n",
       "      <td>1.000000</td>\n",
       "    </tr>\n",
       "    <tr>\n",
       "      <th>75%</th>\n",
       "      <td>80.212529</td>\n",
       "      <td>79.360605</td>\n",
       "      <td>1.000000</td>\n",
       "    </tr>\n",
       "    <tr>\n",
       "      <th>max</th>\n",
       "      <td>99.827858</td>\n",
       "      <td>98.869436</td>\n",
       "      <td>1.000000</td>\n",
       "    </tr>\n",
       "  </tbody>\n",
       "</table>\n",
       "</div>"
      ],
      "text/plain": [
       "                0           1           2\n",
       "count  100.000000  100.000000  100.000000\n",
       "mean    65.644274   66.221998    0.600000\n",
       "std     19.458222   18.582783    0.492366\n",
       "min     30.058822   30.603263    0.000000\n",
       "25%     50.919511   48.179205    0.000000\n",
       "50%     67.032988   67.682381    1.000000\n",
       "75%     80.212529   79.360605    1.000000\n",
       "max     99.827858   98.869436    1.000000"
      ]
     },
     "execution_count": 2,
     "metadata": {},
     "output_type": "execute_result"
    }
   ],
   "source": [
    "df.describe()"
   ]
  },
  {
   "cell_type": "markdown",
   "metadata": {},
   "source": [
    "### Visualizing the data\n",
    "\n",
    "Trước khi cài đặt một thuật toán học máy nào, bạn nên vẽ đồ thị để khám phá dữ liệu. Đoạn code dưới đây sẽ thực hiện các tác vụ sau:\n",
    "\n",
    "- Đọc dữ liệu từ file\n",
    "- Hiển thị 2-D plot thể hiện mối quan hệ giữa 2 điểm thi của các thí sinh."
   ]
  },
  {
   "cell_type": "code",
   "execution_count": 3,
   "metadata": {
    "collapsed": false
   },
   "outputs": [
    {
     "data": {
      "image/png": "[encoded data removed]",
      "text/plain": [
       "<matplotlib.figure.Figure at 0x113f1f7d0>"
      ]
     },
     "metadata": {},
     "output_type": "display_data"
    }
   ],
   "source": [
    "%matplotlib inline\n",
    "import matplotlib.pyplot as plt\n",
    "import numpy as np\n",
    "\n",
    "data = np.loadtxt('ex2data1.txt', delimiter=',', dtype=np.float64)\n",
    "X = data[:,0:2]\n",
    "y = data[:,2]\n",
    "\n",
    "def plot_data(X, y):\n",
    "    # indexes of admitted and not admitted students\n",
    "    pos = y == 1\n",
    "    neg = y == 0\n",
    "    plt.scatter( X[pos,0], X[pos,1], marker='+', c='b')\n",
    "    plt.scatter( X[neg,0], X[neg,1], c='y')\n",
    "    return plt\n",
    "\n",
    "plt = plot_data(X, y)\n",
    "plt.xlabel('Exam 1 score')\n",
    "plt.ylabel('Exam 2 score')\n",
    "plt.legend( ('Admitted', 'Not admitted'), loc = 'upper right' )  \n",
    "plt.show()"
   ]
  },
  {
   "cell_type": "markdown",
   "metadata": {},
   "source": [
    "Sau khi đọc dữ liệu vào các biến $X$ và $y$, ta cần thêm các \"intercept term\" vào ma trận $X$ và khởi tạo giá trị ban đầu của $\\theta$"
   ]
  },
  {
   "cell_type": "code",
   "execution_count": 4,
   "metadata": {
    "collapsed": false
   },
   "outputs": [
    {
     "name": "stdout",
     "output_type": "stream",
     "text": [
      "(100, 2)\n"
     ]
    },
    {
     "data": {
      "text/plain": [
       "(100, 3)"
      ]
     },
     "execution_count": 4,
     "metadata": {},
     "output_type": "execute_result"
    }
   ],
   "source": [
    "m, n = X.shape\n",
    "print (m, n)\n",
    "\n",
    "X = np.concatenate( ( np.ones( (m, 1) ), X ), axis=1 )\n",
    "initial_theta = np.zeros(n + 1)\n",
    "X.shape"
   ]
  },
  {
   "cell_type": "markdown",
   "metadata": {
    "collapsed": true
   },
   "source": [
    "### Cài đặt\n",
    "\n",
    "#### Bài tập \"khởi động\": cài đặt hàm sigmoid\n",
    "\n",
    "Trước khi cài đặt hàm cost, nhớ lại rằng logistic regression sử dụng hàm hypothesis sau:\n",
    "\n",
    "$$h_\\theta(x) = g(\\theta^Tx)$$\n",
    "\n",
    "trong đó $g$ là hàm sigmoid. Hàm sigmoid được định nghĩa như sau:\n",
    "\n",
    "$$g(z)=\\frac{1}{1+e^{-z}}$$\n",
    "\n",
    "Đoạn code sau sẽ cài đặt hàm sigmoid. Đầu vào của hàm sigmoid là giá trị $z$, đầu ra là giá trị của hàm sigmoid $g$. Chú ý cài đặt sao cho hàm sigmoid có thể nhận các kiểu giá trị khác nhau (ma trận, vector hoặc kiểu scalar)."
   ]
  },
  {
   "cell_type": "code",
   "execution_count": 5,
   "metadata": {
    "collapsed": true
   },
   "outputs": [],
   "source": [
    "# z can be np.ndarray, np.matrix, or scalar\n",
    "def sigmoid(z):\n",
    "    return 1 / ( 1 + np.exp(-z) ) "
   ]
  },
  {
   "cell_type": "markdown",
   "metadata": {},
   "source": [
    "Sau khi cài đặt hàm sigmoid, chúng ta sẽ thử một vài giá trị của hàm $sigmoid(z)$. Khi $z$ nhận giá trị dương rất lớn, hàm sigmoid sẽ gần với giá trị 1. Khi $z$ là các số âm rất lớn, hàm sigmoid sẽ dần tới 0. Giá trị $sigmoid(0)$ sẽ nhận giá trị $0.5$. Chúng ta cũng sẽ thử với kiểu vector và matrix."
   ]
  },
  {
   "cell_type": "code",
   "execution_count": 6,
   "metadata": {
    "collapsed": false
   },
   "outputs": [
    {
     "name": "stdout",
     "output_type": "stream",
     "text": [
      "sigmoid(10000.0) = 1.0\n",
      "sigmoid(-10000.0) = 0.0\n",
      "sigmoid(0.0) = 0.5\n",
      "[ 0.73105858  0.5         0.62245933  0.26894142]\n",
      "[[ 0.73105858  0.5       ]\n",
      " [ 0.62245933  0.26894142]]\n"
     ]
    }
   ],
   "source": [
    "# to remove overflow warnings\n",
    "np.seterr(over='ignore')\n",
    "for z in [10000, -10000, 0]:\n",
    "    print 'sigmoid(%.1f) = %1.1f' % (z, sigmoid(z))\n",
    "\n",
    "print sigmoid(np.array([1, 0, 0.5, -1]))\n",
    "print sigmoid(np.array( [[1, 0], [0.5, -1]]))"
   ]
  },
  {
   "cell_type": "markdown",
   "metadata": {},
   "source": [
    "#### Cài đặt cost function và gradient\n",
    "\n",
    "Trong phần này, chúng ta sẽ cài đặt cost function và hàm gradient cho logistic regression.\n",
    "\n",
    "Như chúng ta đã được học trong bài giảng về logistic regression, cost function trong logistic regression được định nghĩa như sau:\n",
    "$$J(\\theta) =\\frac{1}{m}\\sum_{i=1}^{m}\\left[-y^{(i)}log(h_\\theta(x^{(i)})) - (1-y^{(i)})log(1-h_\\theta(x^{(i)}))\\right]$$\n",
    "\n",
    "và gradient của cost function là 1 vector có cùng độ dài với $\\theta$ trong đó phần tử $j^{th}$ (với $j=0,1,\\cdots,n$ được định nghĩa như sau:\n",
    "\n",
    "$$\\frac{\\partial J(\\theta)}{\\partial \\theta_j}=\\frac{1}{m}\\sum_{i=1}^{m}\\left(h_\\theta(x^{(i)})-y^{(i)}\\right)x_j^{(i)}$$\n",
    "\n",
    "Chú ý rằng, công thức gradient trên giống gradient trong TH linear regression, nhưng định nghĩa hàm $h_\\theta(x)$ trong hai trường hợp khác nhau.\n",
    "\n",
    "Hàm ```cost_function``` với đầu vào là vector $\\theta$, ma trận $X$ và $y$ sẽ trả về cost function và gradient."
   ]
  },
  {
   "cell_type": "code",
   "execution_count": 7,
   "metadata": {
    "collapsed": true
   },
   "outputs": [],
   "source": [
    "# X.shape m x n\n",
    "# theta.shape n x 1\n",
    "# y.shape m x 1\n",
    "def cost_function(theta, X, y):\n",
    "    m = y.shape[0]\n",
    "    J = 0\n",
    "    hx = sigmoid( np.dot(X, theta) ) # hx.shape m x 1\n",
    "    J = np.sum( -y * np.log(hx) - (1-y) * np.log(1-hx) )/m\n",
    "    return J\n",
    "\n",
    "# gradient function\n",
    "def gradient(theta, X, y):\n",
    "    m = y.shape[0]\n",
    "    grad_ = np.zeros( theta.shape[0] )\n",
    "    hx = sigmoid( np.dot(X, theta) ) # hx.shape m x 1\n",
    "    grad_ = np.dot(X.T, hx - y) / m\n",
    "    return grad_"
   ]
  },
  {
   "cell_type": "markdown",
   "metadata": {},
   "source": [
    "Sau khi định nghĩa hàm ```cost_function```, ta sẽ tính giá trị của cost function với giá trị khởi tạo ban đầu của $\\theta$. Kết quả thu được của cost khoảng $0.693$."
   ]
  },
  {
   "cell_type": "code",
   "execution_count": 8,
   "metadata": {
    "collapsed": false
   },
   "outputs": [
    {
     "name": "stdout",
     "output_type": "stream",
     "text": [
      "(100, 3)\n",
      "(100,)\n",
      "[ 0.  0.  0.]\n",
      "Cost at initial theta (zeros): 0.693147\n",
      "Gradient at initial theta (zeros):\n",
      "[ -0.1        -12.00921659 -11.26284221]\n"
     ]
    }
   ],
   "source": [
    "cost = cost_function(initial_theta, X, y)\n",
    "grad = gradient(initial_theta, X, y)\n",
    "print X.shape\n",
    "print y.shape\n",
    "print initial_theta\n",
    "print 'Cost at initial theta (zeros): %f' % cost\n",
    "print 'Gradient at initial theta (zeros):\\n%s' % grad"
   ]
  },
  {
   "cell_type": "markdown",
   "metadata": {},
   "source": [
    "#### Học tham số sử dụng hàm fmin, fmin_bfgs\n",
    "\n",
    "Trong bài tập trước (phần linear regression), chúng ta đã cài đặt thuật toán gradient descent để học tham số $\\theta$. Trong phần này, chúng ta sẽ sử dụng hàm ```fmin_bfgs``` trong thư viện [scipy.optimize](http://docs.scipy.org/doc/scipy-0.10.0/reference/generated/scipy.optimize.fmin_bfgs.html#scipy.optimize.fmin_bfgs) để tìm $\\theta$.\n",
    "\n",
    "*Cập nhật*: Do chưa thạo cách dùng hàm ```fmin_bfgs``` nên mình sẽ dùng tạm hàm ```fmin``` (Xem thêm tại [fmin](https://docs.scipy.org/doc/scipy-0.8.x/reference/generated/scipy.optimize.fmin.html#scipy.optimize.fmin)). Thuật toán cài đặt trong ```fmin``` hội tụ chậm hơn so với ```fmin_bfgs```."
   ]
  },
  {
   "cell_type": "code",
   "execution_count": 9,
   "metadata": {
    "collapsed": false
   },
   "outputs": [
    {
     "name": "stdout",
     "output_type": "stream",
     "text": [
      "Optimization terminated successfully.\n",
      "         Current function value: 0.203498\n",
      "         Iterations: 157\n",
      "         Function evaluations: 287\n",
      "Cost at theta (found by fmin): 0.203498\n",
      "theta: [-25.16130062   0.20623142   0.20147143]\n"
     ]
    }
   ],
   "source": [
    "from scipy.optimize import fmin_bfgs, fmin\n",
    "theta = fmin( cost_function, initial_theta, args=(X,y) )\n",
    "\n",
    "print 'Cost at theta (found by fmin): %f' % cost_function(theta, X, y)\n",
    "print 'theta: %s' % theta"
   ]
  },
  {
   "cell_type": "markdown",
   "metadata": {},
   "source": [
    "####  Đánh giá logistic regression\n",
    "\n",
    "Sau khi học các tham số $\\theta$, chúng ta có thể sử dụng mô hình đã học để tính xác suất một sinh viên trúng tuyển. Ví dụ: một sinh viên với điểm thi 1 là 45, điểm thi 2 là 85 có xác suất trúng tuyển là 0.776. Đoạn code sau sẽ thực hiện công việc đó:"
   ]
  },
  {
   "cell_type": "code",
   "execution_count": 10,
   "metadata": {
    "collapsed": false
   },
   "outputs": [
    {
     "name": "stdout",
     "output_type": "stream",
     "text": [
      "Xác suất sinh viên (với điểm số 45, 85) trúng tuyển: 0.776292\n"
     ]
    }
   ],
   "source": [
    "st = np.array( [1, 45, 85] )\n",
    "prob = sigmoid( np.dot(theta, st) )\n",
    "print 'Xác suất sinh viên (với điểm số 45, 85) trúng tuyển: %f' % prob"
   ]
  },
  {
   "cell_type": "markdown",
   "metadata": {},
   "source": [
    "Một cách khác để đánh giá chất lượng của các số học từ dữ liệu là đánh giá độ chính xác của dự đoán trên dữ liệu huấn luyện sử dụng các tham số này. Để thực hiện công việc này, trước tiên, chúng ta sẽ cài đặt hàm ```predict``` -- hàm trả về các giá trị 1 và 0 với dữ liệu và tham số $\\theta$."
   ]
  },
  {
   "cell_type": "code",
   "execution_count": 11,
   "metadata": {
    "collapsed": false
   },
   "outputs": [],
   "source": [
    "# theta.shape = (n,)\n",
    "# X.shape = (m, n)\n",
    "# should return an array with shape (m,)\n",
    "def predict(theta, X):\n",
    "    hx = np.dot(X, theta)\n",
    "    hx[hx >= 0.5] = 1\n",
    "    hx[hx < 0.5] = 0\n",
    "    \n",
    "    return hx"
   ]
  },
  {
   "cell_type": "markdown",
   "metadata": {},
   "source": [
    "Chúng ta sẽ sử dụng hàm ```predict``` để tính độ chính xác trên dữ liệu huấn luyện."
   ]
  },
  {
   "cell_type": "code",
   "execution_count": 12,
   "metadata": {
    "collapsed": false
   },
   "outputs": [
    {
     "name": "stdout",
     "output_type": "stream",
     "text": [
      "Train accuracy: 89.0\n"
     ]
    }
   ],
   "source": [
    "p = predict(theta, X)\n",
    "print 'Train accuracy: %s' % ( 100 * (p == y).mean() )"
   ]
  },
  {
   "cell_type": "markdown",
   "metadata": {},
   "source": [
    "#### Vẽ decision boundary\n",
    "\n",
    "Chúng ta sẽ sử dụng giá trị $\\theta$ đã học được từ dữ liệu để vẽ decision boundary. Không gian dữ liệu huấn luyện là không gian 2D nên decision boundary là một đường thẳng. Chú ý rằng các điểm trên đường thẳng sẽ thoả mãn phương trình sau đây:\n",
    "$$\\theta^Tx=0$$\n",
    "\n",
    "Với không gian 2D, phương trình trên sẽ được diễn giải thành:\n",
    "$$\\theta_0 + \\theta_1x_1 + \\theta_2x_2=0$$"
   ]
  },
  {
   "cell_type": "code",
   "execution_count": 13,
   "metadata": {
    "collapsed": false
   },
   "outputs": [
    {
     "data": {
      "image/png": "[encoded data removed]",
      "text/plain": [
       "<matplotlib.figure.Figure at 0x1170de250>"
      ]
     },
     "metadata": {},
     "output_type": "display_data"
    }
   ],
   "source": [
    "plot_data(X[:,1:3], y)\n",
    "plt.xlabel('Exam 1 score')\n",
    "plt.ylabel('Exam 2 score')\n",
    "plot_x = np.arange(np.min(X[:,1])-2, np.max(X[:,1])+2)\n",
    "plot_y = -(theta[0] + theta[1] * plot_x)/theta[2]\n",
    "plt.plot(plot_x, plot_y, label='Decision Boundary')\n",
    "plt.axis([30,100,30,100])\n",
    "plt.legend( ['Decision Boundary', 'Admitted', 'Not admitted'], \n",
    "            loc = 'upper right' ) \n",
    "plt.show()"
   ]
  },
  {
   "cell_type": "markdown",
   "metadata": {},
   "source": [
    "## Regularized Logistic Regression\n",
    "\n",
    "Trong phần này, chúng ta sẽ thao tác trên file dữ liệu ```ex2data2.txt```. Dữ liệu bao gồm 2 kết quả kiểm tra chất lượng của một con chip và nhãn (1 hoặc 0) thể hiện con chip đủ tiêu chuẩn chất lượng hay không."
   ]
  },
  {
   "cell_type": "code",
   "execution_count": 14,
   "metadata": {
    "collapsed": false
   },
   "outputs": [
    {
     "data": {
      "text/html": [
       "<div>\n",
       "<table border=\"1\" class=\"dataframe\">\n",
       "  <thead>\n",
       "    <tr style=\"text-align: right;\">\n",
       "      <th></th>\n",
       "      <th>0</th>\n",
       "      <th>1</th>\n",
       "      <th>2</th>\n",
       "    </tr>\n",
       "  </thead>\n",
       "  <tbody>\n",
       "    <tr>\n",
       "      <th>0</th>\n",
       "      <td>0.051267</td>\n",
       "      <td>0.69956</td>\n",
       "      <td>1</td>\n",
       "    </tr>\n",
       "    <tr>\n",
       "      <th>1</th>\n",
       "      <td>-0.092742</td>\n",
       "      <td>0.68494</td>\n",
       "      <td>1</td>\n",
       "    </tr>\n",
       "    <tr>\n",
       "      <th>2</th>\n",
       "      <td>-0.213710</td>\n",
       "      <td>0.69225</td>\n",
       "      <td>1</td>\n",
       "    </tr>\n",
       "    <tr>\n",
       "      <th>3</th>\n",
       "      <td>-0.375000</td>\n",
       "      <td>0.50219</td>\n",
       "      <td>1</td>\n",
       "    </tr>\n",
       "    <tr>\n",
       "      <th>4</th>\n",
       "      <td>-0.513250</td>\n",
       "      <td>0.46564</td>\n",
       "      <td>1</td>\n",
       "    </tr>\n",
       "  </tbody>\n",
       "</table>\n",
       "</div>"
      ],
      "text/plain": [
       "          0        1  2\n",
       "0  0.051267  0.69956  1\n",
       "1 -0.092742  0.68494  1\n",
       "2 -0.213710  0.69225  1\n",
       "3 -0.375000  0.50219  1\n",
       "4 -0.513250  0.46564  1"
      ]
     },
     "execution_count": 14,
     "metadata": {},
     "output_type": "execute_result"
    }
   ],
   "source": [
    "import pandas as pd\n",
    "import numpy as np\n",
    "\n",
    "df = pd.read_csv('./ex2data2.txt', header=None)\n",
    "\n",
    "df.head()"
   ]
  },
  {
   "cell_type": "markdown",
   "metadata": {},
   "source": [
    "### Visualizing the data\n",
    "Tương tự như bài tập trước, công việc đầu tiên là khám phá dữ liệu thông qua data visualization."
   ]
  },
  {
   "cell_type": "code",
   "execution_count": 15,
   "metadata": {
    "collapsed": false
   },
   "outputs": [
    {
     "data": {
      "image/png": "[encoded data removed]",
      "text/plain": [
       "<matplotlib.figure.Figure at 0x114c0b210>"
      ]
     },
     "metadata": {},
     "output_type": "display_data"
    }
   ],
   "source": [
    "import matplotlib.pyplot as plt\n",
    "import numpy as np\n",
    "\n",
    "data = np.loadtxt('ex2data2.txt', delimiter=',', dtype=np.float64)\n",
    "X = data[:,0:2]\n",
    "y = data[:,2]\n",
    "\n",
    "plt = plot_data(X, y)\n",
    "plt.xlabel('Microchip Test 1')\n",
    "plt.ylabel('Microchip Test 2')\n",
    "plt.legend(('y=1', 'y=0'), loc='best')\n",
    "plt.show()"
   ]
  },
  {
   "cell_type": "markdown",
   "metadata": {},
   "source": [
    "Hình vẽ trên cho thấy, dữ liệu đã cho không thể phân chia thành *positive* và *negative* chỉ với đường thẳng. Vì thế áp dụng logistic regression một cách đơn giản trên dữ liệu sẽ không có độ chính xác cao vì logistic regression chỉ có có thể tìm được **decision boundary** dạng tuyến tính.\n",
    "\n",
    "### Feature mapping\n",
    "\n",
    "Một cách để *fit* dữ liệu tốt hơn là tạo thêm các đặc trưng cho mỗi điểm dữ liệu. Trong hàm dưới đây, chúng ta sẽ ánh xạ các dữ liệu thành các hạng tử dạng đa thức của $x_1$ và $x_2$ cho đến bậc 6.\n",
    "\n",
    "$$\\text{mapFeature}(x)=\\left[\\begin{array}{c}\n",
    "1\\\\\n",
    "x_1\\\\\n",
    "x_2\\\\\n",
    "x_1^2\\\\\n",
    "x_1x_2\\\\\n",
    "x_2^2\\\\\n",
    "x_1^3\\\\\n",
    "\\vdots\\\\\n",
    "x_1x_2^5\\\\\n",
    "x_2^6\\\\\n",
    "\\end{array}\\right]$$\n",
    "\n",
    "Với phép ánh xạ đặc trưng, vector gồm 2 đặc trưng sẽ được biến đổi thành vector 28 chiều. Logistic regression huấn luyện với dữ liệu nhiều chiều hơn sẽ có **decision boundary** không tuyến tính khi vẽ trên đồ thị 2 chiều.\n",
    "\n",
    "Một vấn đề khi huấn luyện mô hình logistic regression trên dữ liệu nhiều chiều là mô hình thu được có khả năng *overfitting* với dữ liệu huấn luyện. Trong các phần sắp tới, chúng ta sẽ cài đặt **regularized logistic regression** trên dữ liệu và sẽ cùng khảo sát liệu **regularization** có thể giúp chúng ta tránh *overfitting* như thế nào."
   ]
  },
  {
   "cell_type": "code",
   "execution_count": 16,
   "metadata": {
    "collapsed": true
   },
   "outputs": [],
   "source": [
    "# X1 and X2 are two feature columns\n",
    "# Return a new matrix with shapes (m, 28)\n",
    "def map_feature(X1, X2):\n",
    "    degree = 6\n",
    "    out = np.ones( (X1.shape[0],1), dtype=np.float64 )\n",
    "    for i in xrange(1, degree+1):\n",
    "        for j in xrange(0,i+1):\n",
    "            col = (X1 ** (i-j)) * (X2 ** j)\n",
    "            out = np.concatenate( (out, col), axis=1 )           \n",
    "    return out"
   ]
  },
  {
   "cell_type": "markdown",
   "metadata": {},
   "source": [
    "Sử dụng hàm ```map_feature``` để sinh dữ liệu với các features bổ sung."
   ]
  },
  {
   "cell_type": "code",
   "execution_count": 17,
   "metadata": {
    "collapsed": false
   },
   "outputs": [
    {
     "name": "stdout",
     "output_type": "stream",
     "text": [
      "[[ 0.051267  0.69956 ]\n",
      " [-0.092742  0.68494 ]]\n",
      "(118, 28)\n",
      "[[  1.00000000e+00   5.12670000e-02   6.99560000e-01   2.62830529e-03\n",
      "    3.58643425e-02   4.89384194e-01   1.34745327e-04   1.83865725e-03\n",
      "    2.50892595e-02   3.42353606e-01   6.90798869e-06   9.42624411e-05\n",
      "    1.28625106e-03   1.75514423e-02   2.39496889e-01   3.54151856e-07\n",
      "    4.83255257e-06   6.59422333e-05   8.99809795e-04   1.22782870e-02\n",
      "    1.67542444e-01   1.81563032e-08   2.47750473e-07   3.38066048e-06\n",
      "    4.61305487e-05   6.29470940e-04   8.58939846e-03   1.17205992e-01]\n",
      " [  1.00000000e+00  -9.27420000e-02   6.84940000e-01   8.60107856e-03\n",
      "   -6.35227055e-02   4.69142804e-01  -7.97681228e-04   5.89122275e-03\n",
      "   -4.35092419e-02   3.21334672e-01   7.39785525e-05  -5.46363780e-04\n",
      "    4.03513411e-03  -2.98012201e-02   2.20094970e-01  -6.86091891e-06\n",
      "    5.06708697e-05  -3.74226408e-04   2.76382476e-03  -2.04120477e-02\n",
      "    1.50751849e-01   6.36295342e-07  -4.69931780e-06   3.47065055e-05\n",
      "   -2.56322636e-04   1.89305413e-03  -1.39810280e-02   1.03255971e-01]]\n"
     ]
    }
   ],
   "source": [
    "print X[0:2]\n",
    "X = map_feature( X[:,[0]], X[:,[1]] )\n",
    "print X.shape\n",
    "print X[0:2]"
   ]
  },
  {
   "cell_type": "markdown",
   "metadata": {},
   "source": [
    "Thử kiểm tra với một vài giá trị scalar."
   ]
  },
  {
   "cell_type": "code",
   "execution_count": 18,
   "metadata": {
    "collapsed": false
   },
   "outputs": [
    {
     "name": "stdout",
     "output_type": "stream",
     "text": [
      "[[  1.00000000e+00   5.12670000e-02   6.99560000e-01   2.62830529e-03\n",
      "    3.58643425e-02   4.89384194e-01   1.34745327e-04   1.83865725e-03\n",
      "    2.50892595e-02   3.42353606e-01   6.90798869e-06   9.42624411e-05\n",
      "    1.28625106e-03   1.75514423e-02   2.39496889e-01   3.54151856e-07\n",
      "    4.83255257e-06   6.59422333e-05   8.99809795e-04   1.22782870e-02\n",
      "    1.67542444e-01   1.81563032e-08   2.47750473e-07   3.38066048e-06\n",
      "    4.61305487e-05   6.29470940e-04   8.58939846e-03   1.17205992e-01]\n",
      " [  1.00000000e+00  -9.27420000e-02   6.84940000e-01   8.60107856e-03\n",
      "   -6.35227055e-02   4.69142804e-01  -7.97681228e-04   5.89122275e-03\n",
      "   -4.35092419e-02   3.21334672e-01   7.39785525e-05  -5.46363780e-04\n",
      "    4.03513411e-03  -2.98012201e-02   2.20094970e-01  -6.86091891e-06\n",
      "    5.06708697e-05  -3.74226408e-04   2.76382476e-03  -2.04120477e-02\n",
      "    1.50751849e-01   6.36295342e-07  -4.69931780e-06   3.47065055e-05\n",
      "   -2.56322636e-04   1.89305413e-03  -1.39810280e-02   1.03255971e-01]]\n"
     ]
    }
   ],
   "source": [
    "print map_feature(np.array([[0.051267], [-0.092742]]), \n",
    "                  np.array([[0.69956], [0.68494] ]) )"
   ]
  },
  {
   "cell_type": "markdown",
   "metadata": {},
   "source": [
    "Sau khi map features, chúng ta sẽ khởi tạo các giá trị ban đầu trước khi học các tham số từ dữ liệu."
   ]
  },
  {
   "cell_type": "code",
   "execution_count": 19,
   "metadata": {
    "collapsed": true
   },
   "outputs": [],
   "source": [
    "initial_theta = np.zeros( X.shape[1] )\n",
    "_lambda = 1 # tham số lambda cho regularized logistic regression"
   ]
  },
  {
   "cell_type": "markdown",
   "metadata": {},
   "source": [
    "### Cost function và gradient\n",
    "Chúng ta sẽ cài đặt hàm tính cost function và gradient cho **regularized logistic regression**. Chú ý rằng, hàm cost function cho phiên bản regularization có công thức như sau:\n",
    "$$J(\\theta) =\\frac{1}{m}\\sum_{i=1}^{m}\\left[-y^{(i)}log(h_\\theta(x^{(i)})) - (1-y^{(i)})log(1-h_\\theta(x^{(i)}))\\right] + \\frac{\\lambda}{2m}\\sum_{j=1}^{n}\\theta_j^2$$\n",
    "\n",
    "Chú ý rằng, chúng ta sẽ không áp dụng regularization cho tham số $\\theta_0$. Vì thế, gradient cho cost functon là một vector trong đó phần tử thứ $j^{th}$ được định nghĩa như sau:\n",
    "\n",
    "\n",
    "$$\\frac{\\partial J(\\theta)}{\\partial \\theta_0}=\\frac{1}{m}\\sum_{i=1}^{m}\\left(h_\\theta(x^{(i)}) - y{(i)}\\right)x_j^{(i)} \\text{   với   } j=0$$\n",
    "\n",
    "$$\\frac{\\partial J(\\theta)}{\\partial \\theta_j}=\\left(\\frac{1}{m}\\sum_{i=1}^{m}\\left(h_\\theta(x^{(i)}) - y{(i)}\\right)x_j^{(i)}\\right) + \\frac{\\lambda}{m}\\theta_j \\text{    với    } j \\geq 1$$"
   ]
  },
  {
   "cell_type": "code",
   "execution_count": 20,
   "metadata": {
    "collapsed": true
   },
   "outputs": [],
   "source": [
    "def cost_function_reg(theta, X, y, _lambda):\n",
    "    m = y.shape[0]\n",
    "    J = 0\n",
    "    hx = sigmoid( np.dot(X, theta) ) # hx.shape m x 1\n",
    "    J = np.sum( -y * np.log(hx) - (1-y) * np.log(1-hx) )/m\n",
    "    J += _lambda * (theta[1:] ** 2).sum()/(2*m)\n",
    "    return J\n",
    "\n",
    "def gradient_reg(theta, X, y, _lambda):\n",
    "    m = y.shape[0]\n",
    "    grad_ = np.zeros( theta.shape[0] )\n",
    "    hx = sigmoid( np.dot(X, theta) ) # hx.shape m x 1\n",
    "    grad_ = np.dot(X.T, hx - y) / m\n",
    "    temp = np.array(theta)\n",
    "    temp[0] = 0\n",
    "    grad_ += _lambda * temp / m\n",
    "    return grad_"
   ]
  },
  {
   "cell_type": "markdown",
   "metadata": {},
   "source": [
    "Tính giá trị cost và gradient với các giá trị ban đầu của $\\theta$ (gồm các giá trị zeros)."
   ]
  },
  {
   "cell_type": "code",
   "execution_count": 21,
   "metadata": {
    "collapsed": false
   },
   "outputs": [
    {
     "name": "stdout",
     "output_type": "stream",
     "text": [
      "Cost at initial theta (zeros): 0.693147\n",
      "\n"
     ]
    },
    {
     "data": {
      "text/plain": [
       "array([  8.47457627e-03,   1.87880932e-02,   7.77711864e-05,\n",
       "         5.03446395e-02,   1.15013308e-02,   3.76648474e-02,\n",
       "         1.83559872e-02,   7.32393391e-03,   8.19244468e-03,\n",
       "         2.34764889e-02,   3.93486234e-02,   2.23923907e-03,\n",
       "         1.28600503e-02,   3.09593720e-03,   3.93028171e-02,\n",
       "         1.99707467e-02,   4.32983232e-03,   3.38643902e-03,\n",
       "         5.83822078e-03,   4.47629067e-03,   3.10079849e-02,\n",
       "         3.10312442e-02,   1.09740238e-03,   6.31570797e-03,\n",
       "         4.08503006e-04,   7.26504316e-03,   1.37646175e-03,\n",
       "         3.87936363e-02])"
      ]
     },
     "execution_count": 21,
     "metadata": {},
     "output_type": "execute_result"
    }
   ],
   "source": [
    "cost = cost_function_reg(initial_theta, X, y, _lambda)\n",
    "grad = gradient_reg(initial_theta, X, y, _lambda)\n",
    "print 'Cost at initial theta (zeros): %f\\n' % cost\n",
    "grad"
   ]
  },
  {
   "cell_type": "markdown",
   "metadata": {},
   "source": [
    "#### Học tham số với thuật toán gradient descent\n",
    "Chúng ta sẽ thử dụng thuật toán gradient descent để so sánh tham số $\\theta$ học được với hàm ```fmin_bfgs``` trong thư viện ```scipy```."
   ]
  },
  {
   "cell_type": "code",
   "execution_count": 22,
   "metadata": {
    "collapsed": false,
    "scrolled": true
   },
   "outputs": [
    {
     "name": "stdout",
     "output_type": "stream",
     "text": [
      "Cost at theta (found by gradient descent): 0.529003\n",
      "theta:\n",
      "[ 1.27273937  0.62527175  1.18108857 -2.01996044 -0.91742344 -1.43166396\n",
      "  0.12400647 -0.36553441 -0.35723984 -0.17513025 -1.45815667 -0.05098937\n",
      " -0.6155553  -0.27470625 -1.19281661 -0.24218816 -0.20600615 -0.04473108\n",
      " -0.2777845  -0.29537813 -0.45635762 -1.04320272  0.02777151 -0.29243149\n",
      "  0.01556661 -0.32737968 -0.1438869  -0.9246529 ]\n"
     ]
    }
   ],
   "source": [
    "# alpha là learning rate\n",
    "# num_iters là số vòng lặp\n",
    "def gradient_descent(X, y, _lambda, alpha, num_iters):\n",
    "    m = y.shape[0]\n",
    "    n = X.shape[1]\n",
    "    theta = np.zeros( n );\n",
    "\n",
    "    for iter in xrange(num_iters):\n",
    "        # Compute the vector delta\n",
    "        grads = gradient_reg(theta, X, y, _lambda)\n",
    "        theta = theta - alpha * grads\n",
    "\n",
    "    return theta\n",
    "\n",
    "theta = gradient_descent(X, y, _lambda, 0.01, 150000)\n",
    "print 'Cost at theta (found by gradient descent): %f' % cost_function_reg(theta, X, y, _lambda)\n",
    "print 'theta:'\n",
    "print theta"
   ]
  },
  {
   "cell_type": "markdown",
   "metadata": {},
   "source": [
    "Sau khi học tham số $\\theta$ từ dữ liệu, code sau đây sẽ tính độ chính xác của dự đoán trên dữ liệu training với mô hình đã học."
   ]
  },
  {
   "cell_type": "code",
   "execution_count": 23,
   "metadata": {
    "collapsed": false
   },
   "outputs": [
    {
     "name": "stdout",
     "output_type": "stream",
     "text": [
      "Train accuracy (with gradient descent): 79.6610169492\n"
     ]
    }
   ],
   "source": [
    "p = predict(theta, X)\n",
    "print('Train accuracy (with gradient descent): %s' \n",
    "      % ( 100 * (p == y).mean() ))"
   ]
  },
  {
   "cell_type": "markdown",
   "metadata": {},
   "source": [
    "#### Học tham số với fmin, fmin_bfgs\n",
    "Cài đặt tương tự như phần trước, trước hết chúng ta sẽ dùng hàm ```fmin``` để học $\\theta$."
   ]
  },
  {
   "cell_type": "code",
   "execution_count": 24,
   "metadata": {
    "collapsed": false,
    "scrolled": true
   },
   "outputs": [
    {
     "name": "stdout",
     "output_type": "stream",
     "text": [
      "Optimization terminated successfully.\n",
      "         Current function value: 0.529003\n",
      "         Iterations: 47\n",
      "         Function evaluations: 48\n",
      "         Gradient evaluations: 48\n",
      "Cost at theta (found by fmin): 0.529003\n",
      "theta: [ 1.27268739  0.62557016  1.1809665  -2.01919822 -0.91761468 -1.43194199\n",
      "  0.12375921 -0.36513086 -0.35703388 -0.17485805 -1.45843772 -0.05129676\n",
      " -0.61603963 -0.2746414  -1.19282569 -0.24270336 -0.20570022 -0.04499768\n",
      " -0.27782709 -0.29525851 -0.45613294 -1.04377851  0.02762813 -0.29265642\n",
      "  0.01543393 -0.32759318 -0.14389199 -0.92460119]\n"
     ]
    }
   ],
   "source": [
    "from scipy.optimize import fmin_bfgs, fmin\n",
    "theta = fmin_bfgs(cost_function_reg, initial_theta,\n",
    "                  fprime=gradient_reg, args=(X,y,_lambda),\n",
    "                  maxiter=400)\n",
    "\n",
    "print('Cost at theta (found by fmin): %f' % \n",
    "              cost_function_reg(theta, X, y, _lambda))\n",
    "print 'theta: %s' % theta"
   ]
  },
  {
   "cell_type": "code",
   "execution_count": 25,
   "metadata": {
    "collapsed": false
   },
   "outputs": [
    {
     "name": "stdout",
     "output_type": "stream",
     "text": [
      "Train accuracy (with fmin_bfgs): 79.6610169492\n"
     ]
    }
   ],
   "source": [
    "p = predict(theta, X)\n",
    "print('Train accuracy (with fmin_bfgs): %s' % \n",
    "      ( 100 * (p == y).mean() ))"
   ]
  },
  {
   "cell_type": "markdown",
   "metadata": {},
   "source": [
    "Độ chính xác thu được ở trên khác với kết quả thu được với Octave code của course Machine Learning (83.050847). **Tôi chưa thực sự biết rõ lý do vì sao**."
   ]
  },
  {
   "cell_type": "markdown",
   "metadata": {},
   "source": [
    "### Vẽ decision boundary\n",
    "\n",
    "Chúng ta sẽ sử dụng giá trị $\\theta$ học được để vẽ \"decision boundary\" trên dữ liệu training. **Decision boundary** được hiểu là một mặt phẳng chia dữ liệu thành các lớp khác nhau.\n",
    "\n",
    "Tôi tham khảo code vẽ decision boundary tại [đây](http://aimotion.blogspot.jp/2011/11/machine-learning-with-python-logistic.html)"
   ]
  },
  {
   "cell_type": "code",
   "execution_count": 26,
   "metadata": {
    "collapsed": false
   },
   "outputs": [
    {
     "data": {
      "image/png": "[encoded data removed]",
      "text/plain": [
       "<matplotlib.figure.Figure at 0x118e94e90>"
      ]
     },
     "metadata": {},
     "output_type": "display_data"
    }
   ],
   "source": [
    "plot_data(X[:,1:3],y)\n",
    "\n",
    "def plot_decision_boundary(theta, X, y):\n",
    "    # Plot Boundary\n",
    "    u = np.linspace(-1, 1.5, 50)\n",
    "    v = np.linspace(-1, 1.5, 50)\n",
    "    z = np.zeros( shape = ( len(u), len(v) ) )\n",
    "    # Evaluate\n",
    "    for i in range( u.shape[0] ):\n",
    "        for j in range( v.shape[0] ):\n",
    "            _x = map_feature( np.array( [[u[i]]] ), np.array( [[v[j]]] ) )\n",
    "            z[i,j] = np.dot(_x, theta)\n",
    "    z = z.T\n",
    "    plt.contour(u, v, z)           \n",
    "\n",
    "plot_decision_boundary(theta, X, y)\n",
    "plt.title('lambda = %f' % _lambda)\n",
    "plt.xlabel('Microchip Test 1')\n",
    "plt.ylabel('Microchip Test 2')\n",
    "plt.legend(['y = 1', 'y = 0', 'Decision boundary'], loc='best')\n",
    "plt.show()"
   ]
  },
  {
   "cell_type": "markdown",
   "metadata": {},
   "source": [
    "### Thử nghiệm các tham số regularization khác nhau\n",
    "\n",
    "Trong phần này, chúng ta sẽ thử tìm hiểu cách phương pháp regularization tránh overfitting.\n",
    "\n",
    "Chúng ta sẽ vẽ decision boundary với các giá trị $\\lambda$ khác nhau và quan sát sự thay đổi của decision boundary. Với giá trị $\\lambda$ rất nhỏ, classifier có thể dự đoán đúng phần lớn các example trong dữ liệu huấn luyện. TH đó được gọi là *overfitting*. Ngược lại khi giá trị $\\lambda$ rất lớn, classifier sẽ không *fit* dữ liệu không đủ tốt. TH đó được gọi là *underfitting*.\n"
   ]
  },
  {
   "cell_type": "code",
   "execution_count": 27,
   "metadata": {
    "collapsed": false
   },
   "outputs": [
    {
     "name": "stdout",
     "output_type": "stream",
     "text": [
      "Optimization terminated successfully.\n",
      "         Current function value: 0.224569\n",
      "         Iterations: 546\n",
      "         Function evaluations: 547\n",
      "         Gradient evaluations: 547\n",
      "Train accuracy (with fmin_bfgs): 88.9830508475\n"
     ]
    },
    {
     "data": {
      "image/png": "[encoded data removed]",
      "text/plain": [
       "<matplotlib.figure.Figure at 0x114c0bf10>"
      ]
     },
     "metadata": {},
     "output_type": "display_data"
    },
    {
     "name": "stdout",
     "output_type": "stream",
     "text": [
      "Optimization terminated successfully.\n",
      "         Current function value: 0.529003\n",
      "         Iterations: 47\n",
      "         Function evaluations: 48\n",
      "         Gradient evaluations: 48\n",
      "Train accuracy (with fmin_bfgs): 79.6610169492\n"
     ]
    },
    {
     "data": {
      "image/png": "[encoded data removed]",
      "text/plain": [
       "<matplotlib.figure.Figure at 0x11902b250>"
      ]
     },
     "metadata": {},
     "output_type": "display_data"
    },
    {
     "name": "stdout",
     "output_type": "stream",
     "text": [
      "Optimization terminated successfully.\n",
      "         Current function value: 0.686484\n",
      "         Iterations: 7\n",
      "         Function evaluations: 8\n",
      "         Gradient evaluations: 8\n",
      "Train accuracy (with fmin_bfgs): 50.8474576271\n"
     ]
    },
    {
     "data": {
      "image/png": "[encoded data removed]",
      "text/plain": [
       "<matplotlib.figure.Figure at 0x118f3ae10>"
      ]
     },
     "metadata": {},
     "output_type": "display_data"
    }
   ],
   "source": [
    "from scipy.optimize import fmin_bfgs, fmin\n",
    "for l in [0, 1, 100]:\n",
    "    theta = fmin_bfgs(cost_function_reg, initial_theta,\n",
    "                  fprime=gradient_reg, args=(X,y, l),\n",
    "                  maxiter=1000)\n",
    "    p = predict(theta, X)\n",
    "    print('Train accuracy (with fmin_bfgs): %s' % \n",
    "          ( 100 * (p == y).mean() ))\n",
    "    plot_data(X[:,1:3],y)\n",
    "    plot_decision_boundary(theta, X, y)\n",
    "    plt.title('lambda = %f' % l)\n",
    "    plt.xlabel('Microchip Test 1')\n",
    "    plt.ylabel('Microchip Test 2')\n",
    "    plt.legend(['y = 1', 'y = 0', 'Decision boundary'], loc='best')\n",
    "    plt.show()"
   ]
  }
 ],
 "metadata": {
  "kernelspec": {
   "display_name": "Python 2",
   "language": "python",
   "name": "python2"
  },
  "language_info": {
   "codemirror_mode": {
    "name": "ipython",
    "version": 2
   },
   "file_extension": ".py",
   "mimetype": "text/x-python",
   "name": "python",
   "nbconvert_exporter": "python",
   "pygments_lexer": "ipython2",
   "version": "2.7.11"
  }
 },
 "nbformat": 4,
 "nbformat_minor": 0
}
