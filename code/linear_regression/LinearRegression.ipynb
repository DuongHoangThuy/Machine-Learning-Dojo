{
 "cells": [
  {
   "cell_type": "markdown",
   "metadata": {},
   "source": [
    "# Programming Assignment 1: Linear Regression\n",
    "(Machine Learning Course)\n",
    "\n",
    "## Linear Regression một biến \n",
    "\n",
    "### Giới thiệu\n",
    "\n",
    "Bài viết sẽ hướng dẫn cách cài đặt linear regression một biến với Python. Nội dung dựa trên bài tập lập trình [linear regression](https://s3.amazonaws.com/spark-public/ml/exercises/on-demand/machine-learning-ex1.zip) trong khoá học [Machine Learning](https://www.coursera.org/learn/machine-learning) trên Coursera.\n",
    "\n",
    "### Dữ liệu\n",
    "\n",
    "Trong file ex1data1.txt, cột 1 là số dân của thành phố và cột 2 là lợi nhuận. Lợi nhuận có thể là số âm (thua lỗ).\n",
    "\n",
    "Đọc vào dữ liệu với pandas.\n"
   ]
  },
  {
   "cell_type": "code",
   "execution_count": 1,
   "metadata": {
    "collapsed": false
   },
   "outputs": [
    {
     "data": {
      "text/html": [
       "<div>\n",
       "<table border=\"1\" class=\"dataframe\">\n",
       "  <thead>\n",
       "    <tr style=\"text-align: right;\">\n",
       "      <th></th>\n",
       "      <th>0</th>\n",
       "      <th>1</th>\n",
       "    </tr>\n",
       "  </thead>\n",
       "  <tbody>\n",
       "    <tr>\n",
       "      <th>0</th>\n",
       "      <td>6.1101</td>\n",
       "      <td>17.5920</td>\n",
       "    </tr>\n",
       "    <tr>\n",
       "      <th>1</th>\n",
       "      <td>5.5277</td>\n",
       "      <td>9.1302</td>\n",
       "    </tr>\n",
       "    <tr>\n",
       "      <th>2</th>\n",
       "      <td>8.5186</td>\n",
       "      <td>13.6620</td>\n",
       "    </tr>\n",
       "    <tr>\n",
       "      <th>3</th>\n",
       "      <td>7.0032</td>\n",
       "      <td>11.8540</td>\n",
       "    </tr>\n",
       "    <tr>\n",
       "      <th>4</th>\n",
       "      <td>5.8598</td>\n",
       "      <td>6.8233</td>\n",
       "    </tr>\n",
       "  </tbody>\n",
       "</table>\n",
       "</div>"
      ],
      "text/plain": [
       "        0        1\n",
       "0  6.1101  17.5920\n",
       "1  5.5277   9.1302\n",
       "2  8.5186  13.6620\n",
       "3  7.0032  11.8540\n",
       "4  5.8598   6.8233"
      ]
     },
     "execution_count": 1,
     "metadata": {},
     "output_type": "execute_result"
    }
   ],
   "source": [
    "import pandas as pd\n",
    "import numpy as np\n",
    "\n",
    "df = pd.read_csv('./ex1data1.txt', header=None)\n",
    "\n",
    "df.head()"
   ]
  },
  {
   "cell_type": "code",
   "execution_count": 2,
   "metadata": {
    "collapsed": false
   },
   "outputs": [
    {
     "data": {
      "text/html": [
       "<div>\n",
       "<table border=\"1\" class=\"dataframe\">\n",
       "  <thead>\n",
       "    <tr style=\"text-align: right;\">\n",
       "      <th></th>\n",
       "      <th>0</th>\n",
       "      <th>1</th>\n",
       "    </tr>\n",
       "  </thead>\n",
       "  <tbody>\n",
       "    <tr>\n",
       "      <th>count</th>\n",
       "      <td>97.000000</td>\n",
       "      <td>97.000000</td>\n",
       "    </tr>\n",
       "    <tr>\n",
       "      <th>mean</th>\n",
       "      <td>8.159800</td>\n",
       "      <td>5.839135</td>\n",
       "    </tr>\n",
       "    <tr>\n",
       "      <th>std</th>\n",
       "      <td>3.869884</td>\n",
       "      <td>5.510262</td>\n",
       "    </tr>\n",
       "    <tr>\n",
       "      <th>min</th>\n",
       "      <td>5.026900</td>\n",
       "      <td>-2.680700</td>\n",
       "    </tr>\n",
       "    <tr>\n",
       "      <th>25%</th>\n",
       "      <td>5.707700</td>\n",
       "      <td>1.986900</td>\n",
       "    </tr>\n",
       "    <tr>\n",
       "      <th>50%</th>\n",
       "      <td>6.589400</td>\n",
       "      <td>4.562300</td>\n",
       "    </tr>\n",
       "    <tr>\n",
       "      <th>75%</th>\n",
       "      <td>8.578100</td>\n",
       "      <td>7.046700</td>\n",
       "    </tr>\n",
       "    <tr>\n",
       "      <th>max</th>\n",
       "      <td>22.203000</td>\n",
       "      <td>24.147000</td>\n",
       "    </tr>\n",
       "  </tbody>\n",
       "</table>\n",
       "</div>"
      ],
      "text/plain": [
       "               0          1\n",
       "count  97.000000  97.000000\n",
       "mean    8.159800   5.839135\n",
       "std     3.869884   5.510262\n",
       "min     5.026900  -2.680700\n",
       "25%     5.707700   1.986900\n",
       "50%     6.589400   4.562300\n",
       "75%     8.578100   7.046700\n",
       "max    22.203000  24.147000"
      ]
     },
     "execution_count": 2,
     "metadata": {},
     "output_type": "execute_result"
    }
   ],
   "source": [
    "# Mô tả thông tin cơ bản của dữ liệu\n",
    "df.describe()"
   ]
  },
  {
   "cell_type": "markdown",
   "metadata": {},
   "source": [
    "### Plot dữ liệu\n",
    "\n",
    "Trước khi bắt đầu tác vụ, việc điều tiên là hiểu dữ liệu. Vì dữ liệu có 2 chiều nên chúng ta có thể vẽ đồ thị scatter với ```matplotlib```"
   ]
  },
  {
   "cell_type": "code",
   "execution_count": 3,
   "metadata": {
    "collapsed": false
   },
   "outputs": [
    {
     "data": {
      "text/plain": [
       "<matplotlib.text.Text at 0x116f44e90>"
      ]
     },
     "execution_count": 3,
     "metadata": {},
     "output_type": "execute_result"
    },
    {
     "data": {
      "image/png": "[encoded data removed]",
      "text/plain": [
       "<matplotlib.figure.Figure at 0x114b0c750>"
      ]
     },
     "metadata": {},
     "output_type": "display_data"
    }
   ],
   "source": [
    "%matplotlib inline\n",
    "import matplotlib.pyplot as plt\n",
    "\n",
    "plt.scatter(df.ix[:,0], df.ix[:,1], marker='x', c='r')\n",
    "plt.xlabel('Profit in $10,000s')\n",
    "plt.ylabel('Population of City in 10,000s')"
   ]
  },
  {
   "cell_type": "markdown",
   "metadata": {},
   "source": [
    "### Gradient Descent\n",
    "\n",
    "Trong phần này, chúng ta sẽ học cách *fit* các tham số $\\theta$ của mô hình linear regression trên dữ liệu sử dụng phương pháp gradient descent.\n",
    "\n",
    "#### Update Equations\n",
    "\n",
    "Trong bài giảng, chúng ta đã biết để tìm tham số $\\theta$, ta cần cực tiểu hoá cost function.\n",
    "\n",
    "$$J(\\theta)=\\frac{1}{2m}\\sum_{i=1}^{m}\\left(h_{\\theta}(x^{(i)})-y^{(i)}\\right)^2$$\n",
    "\n",
    "Ở đây hypothesis $h_{\\theta}(x)$ được định nghĩa như sau:\n",
    "\n",
    "$$h_{\\theta}(x)=\\theta^{T}x=\\theta_{0} + \\theta_{1}x_{1}$$\n",
    "\n",
    "Để tìm tham số $\\theta$ sao cho hàm cost $J(\\theta)$ đạt cực tiểu, ta có thể dùng thuật toán \"batch gradient descent.\" Tại mỗi vòng lặp ta thực hiện cập nhật sau đây:\n",
    "\n",
    "$$\\theta_{j}=\\theta_{j}-\\alpha\\frac{1}{m}\\sum_{i=1}^{m}\\left(h_{\\theta}(x^{(i)})-y^{(i)}\\right)x_{j}^{(i)}$$ (Cập nhật đồng thời các giá trị $\\theta_{j}$ với mọi $j$).\n",
    "\n",
    "#### Tính cost function $J(\\theta)$\n",
    "\n",
    "Cài đặt hàm cost function bằng python như sau:"
   ]
  },
  {
   "cell_type": "code",
   "execution_count": 4,
   "metadata": {
    "collapsed": false
   },
   "outputs": [],
   "source": [
    "def compute_cost(X, y, theta):\n",
    "    m = y.shape[0]\n",
    "    return sum( ( np.sum(X * theta, axis=1) - y ) ** 2 ) / (2*m)"
   ]
  },
  {
   "cell_type": "markdown",
   "metadata": {},
   "source": [
    "#### Cài đặt hàm gradient descent (trong trường hợp 1 biến số)\n",
    "\n",
    "Trong cài đặt dưới đây, tôi sử dụng một cài đặt không thật sự hiệu quả lắm vì chưa sử dụng vectorization."
   ]
  },
  {
   "cell_type": "code",
   "execution_count": 5,
   "metadata": {
    "collapsed": true
   },
   "outputs": [],
   "source": [
    "# X, y, theta có kiểu numpy.array\n",
    "# X.shape = (m,2), y.shape=(m,), theta.shape=(2,)\n",
    "def gradient_descent(X, y, theta, alpha, num_iters):\n",
    "    m = y.shape[0]\n",
    "    J_history = np.zeros(num_iters);\n",
    "\n",
    "    for iter in xrange(iterations):\n",
    "        sum1 = 0\n",
    "        sum2 = 0\n",
    "        for i in xrange(m):\n",
    "            tmp = sum( theta * X[i,:] ) - y[i]\n",
    "            sum1 += tmp\n",
    "            sum2 += tmp * X[i,1]\n",
    "        \n",
    "        theta[0] -= alpha * sum1/m;\n",
    "        theta[1] -= alpha * sum2/m\n",
    "\n",
    "        # Save the cost J in every iteration    \n",
    "        J_history[iter] = compute_cost(X, y, theta);\n",
    "\n",
    "    return (theta, J_history)"
   ]
  },
  {
   "cell_type": "markdown",
   "metadata": {},
   "source": [
    "Sử dụng hàm gradient descent ở trên, tham số $\\theta$ sẽ được ước lượng như dưới đây."
   ]
  },
  {
   "cell_type": "code",
   "execution_count": 6,
   "metadata": {
    "collapsed": false
   },
   "outputs": [
    {
     "name": "stdout",
     "output_type": "stream",
     "text": [
      "Initial cost function: 32.0727338775\n",
      "Theta found by gradient descent: [-3.63029144  1.16636235]\n",
      "For population = 35,000, we predict a profit of 4519.767868\n",
      "For population = 70,000, we predict a profit of 45342.450129\n"
     ]
    }
   ],
   "source": [
    "iterations = 1500;\n",
    "alpha = 0.01;\n",
    "\n",
    "theta = np.zeros( 2 );\n",
    "\n",
    "X = df.ix[:,0].as_matrix()\n",
    "y = df.ix[:,1].as_matrix()\n",
    "\n",
    "m = y.shape[0]\n",
    "X = X.reshape(m,1)\n",
    "\n",
    "X = np.concatenate( ( np.ones( (m, 1) ), X ), axis = 1 )\n",
    "\n",
    "print 'Initial cost function: %s' % compute_cost(X, y, theta)\n",
    "\n",
    "theta, _ = gradient_descent(X, y, theta, alpha, iterations)\n",
    "\n",
    "print 'Theta found by gradient descent: %s' % theta\n",
    "\n",
    "# Predict values for population sizes of 35,000 and 70,000\n",
    "predict1 = sum( [1, 3.5] *theta ) * 10000;\n",
    "print('For population = 35,000, we predict a profit of %f' %\n",
    "       predict1);\n",
    "\n",
    "predict2 = sum( [1, 7] * theta ) * 10000;\n",
    "print('For population = 70,000, we predict a profit of %f' %\n",
    "       predict2);"
   ]
  },
  {
   "cell_type": "markdown",
   "metadata": {},
   "source": [
    "#### Vẽ đường thằng linear fit"
   ]
  },
  {
   "cell_type": "code",
   "execution_count": 7,
   "metadata": {
    "collapsed": false,
    "scrolled": true
   },
   "outputs": [
    {
     "data": {
      "image/png": "[encoded data removed]",
      "text/plain": [
       "<matplotlib.figure.Figure at 0x116f589d0>"
      ]
     },
     "metadata": {},
     "output_type": "display_data"
    }
   ],
   "source": [
    "plt.scatter(df.ix[:,0], df.ix[:,1], marker='x', c='r', label='Training data')\n",
    "plt.plot(X[:,1], np.sum(X * theta, axis=1), label='Linear Regression')\n",
    "plt.xlabel('Profit in $10,000s')\n",
    "plt.ylabel('Population of City in 10,000s')\n",
    "plt.legend( loc = 'lower right')\n",
    "plt.show()"
   ]
  },
  {
   "cell_type": "markdown",
   "metadata": {},
   "source": [
    "### Visualizing $J(\\theta)$"
   ]
  },
  {
   "cell_type": "code",
   "execution_count": 8,
   "metadata": {
    "collapsed": false
   },
   "outputs": [],
   "source": [
    "# Create a grid over which J is plotted\n",
    "theta0_vals = np.linspace(-10, 10, 100)\n",
    "theta1_vals = np.linspace(-1, 4, 100)\n",
    "\n",
    "# initialize J_vals to a matrix of O's\n",
    "J_vals = np.zeros( (theta0_vals.shape[0], theta1_vals.shape[0]) )\n",
    "\n",
    "# Fill out J_vals\n",
    "for i in xrange( theta0_vals.shape[0] ):\n",
    "    for j in xrange( theta1_vals.shape[0] ):\n",
    "        t = np.array( ( theta0_vals[i], theta1_vals[j] ) )\n",
    "        J_vals[i,j] = compute_cost(X, y, t)"
   ]
  },
  {
   "cell_type": "markdown",
   "metadata": {},
   "source": [
    "Để visuallize $J(\\theta)$, chúng ta cần biết cách vẽ đồ thị 3-D với matplotlib."
   ]
  },
  {
   "cell_type": "code",
   "execution_count": 9,
   "metadata": {
    "collapsed": false
   },
   "outputs": [
    {
     "data": {
      "image/png": "[encoded data removed]",
      "text/plain": [
       "<matplotlib.figure.Figure at 0x116f44a10>"
      ]
     },
     "metadata": {},
     "output_type": "display_data"
    }
   ],
   "source": [
    "from mpl_toolkits.mplot3d import Axes3D\n",
    "\n",
    "fig = plt.figure()\n",
    "ax = fig.gca(projection='3d')\n",
    "surf = ax.plot_surface(theta0_vals, theta1_vals, J_vals)\n",
    "plt.show()"
   ]
  },
  {
   "cell_type": "code",
   "execution_count": 10,
   "metadata": {
    "collapsed": false,
    "scrolled": true
   },
   "outputs": [
    {
     "data": {
      "image/png": "[encoded data removed]",
      "text/plain": [
       "<matplotlib.figure.Figure at 0x11736d990>"
      ]
     },
     "metadata": {},
     "output_type": "display_data"
    }
   ],
   "source": [
    "# Vẽ Contour plot\n",
    "import matplotlib\n",
    "import numpy as np\n",
    "import matplotlib.cm as cm\n",
    "import matplotlib.mlab as mlab\n",
    "import matplotlib.pyplot as plt\n",
    "\n",
    "plt.contour(theta0_vals, theta1_vals, J_vals.T, np.logspace(-2, 3, 20))\n",
    "plt.xlabel('theta_0')\n",
    "plt.ylabel('theta_1')\n",
    "plt.scatter(theta[0], theta[1], marker='x', c='r')\n",
    "plt.show()"
   ]
  },
  {
   "cell_type": "markdown",
   "metadata": {},
   "source": [
    "## Linear Regression nhiều biến\n",
    "\n",
    "Bài tập này sẽ hướng dẫn bạn cách cài đặt linear regression với nhiều biến để dự đoán giá nhà. Chúng ta sẽ sử dụng dữ liệu trong file ```ex1data2.txt``` để thực hiện bài tập này. Trong dữ liệu này, cột đầu tiên là diện tích của căn hộ, cột thứ 2 là số phòng ngủ và cột thứ 3 là giá tiền của căn hộ.\n",
    "\n",
    "Trước tiên, chúng ta sẽ đọc dữ liệu từ file. Khác với phần trước, thay vì sử dụng thư viện pandas, tôi sẽ thử sử dụng hàm ```numpy.loadtxt()``` để đọc dữ liệu. Chú ý là hàm này thích hợp nếu dữ liệu là dạng số."
   ]
  },
  {
   "cell_type": "code",
   "execution_count": 11,
   "metadata": {
    "collapsed": false
   },
   "outputs": [
    {
     "name": "stdout",
     "output_type": "stream",
     "text": [
      "(47, 2) (47, 1)\n"
     ]
    }
   ],
   "source": [
    "import numpy as np\n",
    "\n",
    "data = np.loadtxt('ex1data2.txt', delimiter=',')\n",
    "X = data[:,0:2]\n",
    "y = data[:,[2]]\n",
    "\n",
    "print X.shape, y.shape"
   ]
  },
  {
   "cell_type": "code",
   "execution_count": 12,
   "metadata": {
    "collapsed": false,
    "scrolled": true
   },
   "outputs": [
    {
     "name": "stdout",
     "output_type": "stream",
     "text": [
      "[[  2.10400000e+03   3.00000000e+00   3.99900000e+05]\n",
      " [  1.60000000e+03   3.00000000e+00   3.29900000e+05]\n",
      " [  2.40000000e+03   3.00000000e+00   3.69000000e+05]\n",
      " [  1.41600000e+03   2.00000000e+00   2.32000000e+05]\n",
      " [  3.00000000e+03   4.00000000e+00   5.39900000e+05]\n",
      " [  1.98500000e+03   4.00000000e+00   2.99900000e+05]\n",
      " [  1.53400000e+03   3.00000000e+00   3.14900000e+05]\n",
      " [  1.42700000e+03   3.00000000e+00   1.98999000e+05]\n",
      " [  1.38000000e+03   3.00000000e+00   2.12000000e+05]\n",
      " [  1.49400000e+03   3.00000000e+00   2.42500000e+05]]\n"
     ]
    }
   ],
   "source": [
    "print data[0:10]"
   ]
  },
  {
   "cell_type": "markdown",
   "metadata": {},
   "source": [
    "### Feature Normalization\n",
    "\n",
    "Vì giá trị của diện tích nhà lớn hơn khoảng 1000 lần so với số phòng, nên để thuật toán gradient descent hội tụ nhanh hơn, chúng ta cần làm bước feature normalization.\n",
    "\n",
    "Thủ tục feature normalization gồm 2 bước:\n",
    "\n",
    "- Lấy giá trị của các features trừ giá trị trung bình.\n",
    "- Giá trị thu được sau khi trừ giá trị trung bình sẽ chia cho độ lệch tiêu chuẩn của features."
   ]
  },
  {
   "cell_type": "code",
   "execution_count": 13,
   "metadata": {
    "collapsed": false
   },
   "outputs": [
    {
     "name": "stdout",
     "output_type": "stream",
     "text": [
      "[ 2000.68085106     3.17021277]\n",
      "[  7.94702354e+02   7.60981887e-01]\n"
     ]
    }
   ],
   "source": [
    "mu = X.mean(axis=0)\n",
    "sigma = X.std(axis=0, ddof=1)\n",
    "\n",
    "print mu\n",
    "print sigma"
   ]
  },
  {
   "cell_type": "markdown",
   "metadata": {},
   "source": [
    "Chú ý hàm trong hàm ```np.std()```, tôi có tuỳ chọn ```ddof=1``` có nghĩa là số bậc tự do (\"Delta Degrees of Freedom\"). Có tuỳ chọn này, kết quả tính standard deviation sẽ giống với hàm std() trong MATLAB."
   ]
  },
  {
   "cell_type": "code",
   "execution_count": 14,
   "metadata": {
    "collapsed": false
   },
   "outputs": [],
   "source": [
    "X = (X - mu)/sigma"
   ]
  },
  {
   "cell_type": "markdown",
   "metadata": {},
   "source": [
    "### Cài đặt Gradient Descent cho trường hợp nhiều biến"
   ]
  },
  {
   "cell_type": "code",
   "execution_count": 15,
   "metadata": {
    "collapsed": true
   },
   "outputs": [],
   "source": [
    "def compute_cost_multi(X, y, theta):\n",
    "    m = y.shape[0]\n",
    "    return  ( ( np.dot(X, theta) - y ) ** 2 ).sum() / (2*m)\n",
    "\n",
    "# alpha là learning rate\n",
    "# num_iters là số vòng lặp\n",
    "def gradient_descent_multi(X, y, theta, alpha, num_iters):\n",
    "    m = y.shape[0]\n",
    "    theta = np.zeros( (X.shape[1], 1) );\n",
    "    J_history = np.zeros(num_iters)\n",
    "\n",
    "    for iter in xrange(num_iters):\n",
    "        # Compute the vector delta\n",
    "        delta = np.zeros( (X.shape[1],1) )\n",
    "        for i in xrange( X.shape[1] ):\n",
    "            delta[i] =  ( (np.dot(X, theta) - y) * X[:,[i]] ).sum() / m\n",
    "\n",
    "        theta = theta - alpha * delta\n",
    "        J_history[iter] = compute_cost_multi(X, y, theta)\n",
    "\n",
    "    return theta, J_history"
   ]
  },
  {
   "cell_type": "markdown",
   "metadata": {},
   "source": [
    "Trước khi fit tham số $\\theta$ bằng dữ liệu đã cho, ta phải thêm cột giá trị 1 vào trước ma trận $X$ và khởi tạo learning rate và số vòng lặp."
   ]
  },
  {
   "cell_type": "code",
   "execution_count": 16,
   "metadata": {
    "collapsed": false
   },
   "outputs": [],
   "source": [
    "m = y.shape[0]\n",
    "alpha = 0.01\n",
    "num_iters = 400\n",
    "X = np.concatenate( ( np.ones( (m, 1) ), X ), axis = 1 )"
   ]
  },
  {
   "cell_type": "markdown",
   "metadata": {},
   "source": [
    "Tính $\\theta$ và in ra kết quả."
   ]
  },
  {
   "cell_type": "code",
   "execution_count": 17,
   "metadata": {
    "collapsed": false
   },
   "outputs": [
    {
     "name": "stdout",
     "output_type": "stream",
     "text": [
      "[[ 334302.06399328  100087.11600585    3673.54845093]]\n"
     ]
    }
   ],
   "source": [
    "theta, J_history = gradient_descent_multi(X, y, theta, alpha, num_iters)\n",
    "\n",
    "print theta.T"
   ]
  },
  {
   "cell_type": "code",
   "execution_count": 18,
   "metadata": {
    "collapsed": false
   },
   "outputs": [
    {
     "data": {
      "image/png": "[encoded data removed]",
      "text/plain": [
       "<matplotlib.figure.Figure at 0x116fb4e50>"
      ]
     },
     "metadata": {},
     "output_type": "display_data"
    }
   ],
   "source": [
    "# Plot the convergence graph\n",
    "plt.plot( range(1, J_history.shape[0] + 1), J_history )\n",
    "plt.xlabel('Number of iterations');\n",
    "plt.ylabel('Cost J');\n",
    "plt.show()"
   ]
  },
  {
   "cell_type": "code",
   "execution_count": 19,
   "metadata": {
    "collapsed": false
   },
   "outputs": [
    {
     "name": "stdout",
     "output_type": "stream",
     "text": [
      "[ 2000.68085106     3.17021277]\n",
      "[  7.94702354e+02   7.60981887e-01]\n",
      "Predicted price of a 1650 sq-ft, 3 br house (using gradient descent): $289314.620338\n",
      "\n"
     ]
    }
   ],
   "source": [
    "# Estimate the price of a 1650 sq-ft, 3 br house\n",
    "# Recall that the first column of X is all-ones. Thus, it does\n",
    "# not need to be normalized.\n",
    "price = 0; \n",
    "print mu\n",
    "print sigma\n",
    "\n",
    "unseen_data = np.array( [1650, 3], dtype=np.float64 );\n",
    "unseen_data[0] = (unseen_data[0] - mu[0])/sigma[0];\n",
    "unseen_data[1] = (unseen_data[1] - mu[1])/sigma[1];\n",
    "unseen_data = np.concatenate( (np.ones(1), unseen_data) );\n",
    "price = (theta.T * unseen_data).sum();\n",
    "\n",
    "print( 'Predicted price of a 1650 sq-ft, 3 br house ' \n",
    "       '(using gradient descent): $%f\\n' % price);"
   ]
  },
  {
   "cell_type": "markdown",
   "metadata": {},
   "source": [
    "### Normal Equations\n",
    "\n",
    "Ngoài thuật toán Gradient Descent để fit parameters $\\theta$, ta có thể tính trực tiếp $\\theta$ bằng công thức sau đây:\n",
    "\n",
    "$$\\theta = \\left(X^TX\\right)^{-1}X^Ty$$\n",
    "\n",
    "Trong Python, ta có thể cài đặt phương trình này như sau:"
   ]
  },
  {
   "cell_type": "code",
   "execution_count": 20,
   "metadata": {
    "collapsed": false
   },
   "outputs": [],
   "source": [
    "def normal_eqn(X, y):\n",
    "    theta = np.zeros( (X.shape[0], 1) )\n",
    "    theta = np.dot( np.dot( np.linalg.pinv( np.dot(X.T, X) ), X.T ), y )\n",
    "\n",
    "    return theta"
   ]
  },
  {
   "cell_type": "markdown",
   "metadata": {},
   "source": [
    "Áp dụng hàm đã cài đặt, ta tính $\\theta$ như sau:"
   ]
  },
  {
   "cell_type": "code",
   "execution_count": 21,
   "metadata": {
    "collapsed": false
   },
   "outputs": [
    {
     "name": "stdout",
     "output_type": "stream",
     "text": [
      "Solving with Normal Equations\n",
      "Theta computed from Normal Equations: [[ 89597.90954355    139.21067402  -8738.01911255]]\n",
      "Predicted price of a 1650 sq-ft, 3 br house (using normal quations): $293081.464335\n",
      "\n"
     ]
    }
   ],
   "source": [
    "# Normal Equations\n",
    "print 'Solving with Normal Equations'\n",
    "data = np.loadtxt('ex1data2.txt', delimiter=',')\n",
    "X = data[:,0:2]\n",
    "y = data[:,[2]]\n",
    "m = y.shape[0]\n",
    "\n",
    "X = np.concatenate( ( np.ones( (m, 1) ), X ), axis = 1 )\n",
    "\n",
    "theta = normal_eqn(X, y)\n",
    "print 'Theta computed from Normal Equations: %s' % theta.T\n",
    "\n",
    "x = np.array( [1, 1650, 3 ], dtype=np.float64 )\n",
    "price = (theta.T * x).sum();\n",
    "\n",
    "print( 'Predicted price of a 1650 sq-ft, 3 br house ' \n",
    "       '(using normal quations): $%f\\n' % price);"
   ]
  }
 ],
 "metadata": {
  "kernelspec": {
   "display_name": "Python 2",
   "language": "python",
   "name": "python2"
  },
  "language_info": {
   "codemirror_mode": {
    "name": "ipython",
    "version": 2
   },
   "file_extension": ".py",
   "mimetype": "text/x-python",
   "name": "python",
   "nbconvert_exporter": "python",
   "pygments_lexer": "ipython2",
   "version": "2.7.11"
  }
 },
 "nbformat": 4,
 "nbformat_minor": 0
}
